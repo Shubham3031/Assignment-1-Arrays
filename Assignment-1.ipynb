{
 "cells": [
  {
   "cell_type": "code",
   "execution_count": 3,
   "id": "3685f859-76af-4d9b-8e63-bd201d4dbcac",
   "metadata": {},
   "outputs": [
    {
     "name": "stdin",
     "output_type": "stream",
     "text": [
      "Enter the elements of the nums array:  2 7 11 15\n",
      "Enter the target value 9\n"
     ]
    },
    {
     "name": "stdout",
     "output_type": "stream",
     "text": [
      "[0, 1]\n"
     ]
    }
   ],
   "source": [
    "# 1.Ans.\n",
    "\n",
    "def two_sum(nums,target):\n",
    "    seen ={}\n",
    "    for i,num in enumerate(nums):\n",
    "        result=target-num\n",
    "        if result in seen:\n",
    "            return[seen[result],i]\n",
    "        seen[num] = i\n",
    "    return i\n",
    "\n",
    "nums_input = input(\"Enter the elements of the nums array: \")\n",
    "nums = list(map(int, nums_input.split()))\n",
    "\n",
    "target = int(input(\"Enter the target value\"))\n",
    "\n",
    "ans = two_sum(nums,target)\n",
    "print(ans)\n",
    "        \n",
    "        \n",
    "           \n",
    "        \n"
   ]
  },
  {
   "cell_type": "code",
   "execution_count": 5,
   "id": "17e7807f-57e3-4425-bba3-2a7e6126401d",
   "metadata": {},
   "outputs": [
    {
     "name": "stdin",
     "output_type": "stream",
     "text": [
      "Enter the elements :  3 2 2 3\n",
      "Enter the value 3\n"
     ]
    },
    {
     "name": "stdout",
     "output_type": "stream",
     "text": [
      "2\n"
     ]
    }
   ],
   "source": [
    "# 2.Ans.\n",
    "\n",
    "def remove_element(nums,val):\n",
    "    i=0\n",
    "    for num in nums:\n",
    "        if num != val:\n",
    "            nums[i]=num\n",
    "            i+=1\n",
    "    return i\n",
    "\n",
    "nums_input = input(\"Enter the elements : \")\n",
    "nums = list(map(int,nums_input.split()))\n",
    "\n",
    "val = int(input(\"Enter the value\"))\n",
    "\n",
    "ans = remove_element(nums,val)\n",
    "\n",
    "print(ans)\n",
    "          \n",
    "\n",
    "                   \n",
    "        \n",
    "        \n",
    "        \n",
    "\n"
   ]
  },
  {
   "cell_type": "code",
   "execution_count": 9,
   "id": "a98827be-48c8-4f6e-9f8b-5e2185ee0e55",
   "metadata": {},
   "outputs": [
    {
     "name": "stdin",
     "output_type": "stream",
     "text": [
      "Enter the elements :  1 3 5 6\n",
      "Enter the value 5\n"
     ]
    },
    {
     "name": "stdout",
     "output_type": "stream",
     "text": [
      "2\n"
     ]
    }
   ],
   "source": [
    "# 3.Ans.\n",
    "\n",
    "def insert_bsearch(nums,target):\n",
    "    left = 0\n",
    "    right = len(nums)\n",
    "    \n",
    "    while left<right:\n",
    "        mid = left+(right-left)//2\n",
    "        \n",
    "        if[mid]==target:\n",
    "            return mid\n",
    "        elif nums[mid]<target:\n",
    "            left = mid+1\n",
    "        else:\n",
    "            right = mid\n",
    "    return left\n",
    "\n",
    "nums_input = input(\"Enter the elements : \")\n",
    "nums = list(map(int,nums_input.split()))\n",
    "\n",
    "target = int(input(\"Enter the value\"))\n",
    "\n",
    "result = insert_bsearch(nums,target)\n",
    "\n",
    "print(result)\n",
    "\n",
    "# Its Time Complexity is O(logn).\n",
    "                \n",
    "        \n",
    "        "
   ]
  },
  {
   "cell_type": "code",
   "execution_count": 11,
   "id": "a2ed04f8-da66-4a94-92d0-a0cf763f49e0",
   "metadata": {},
   "outputs": [
    {
     "name": "stdin",
     "output_type": "stream",
     "text": [
      "Enter the digits:  1 2 3\n"
     ]
    },
    {
     "name": "stdout",
     "output_type": "stream",
     "text": [
      "[1, 2, 4]\n"
     ]
    }
   ],
   "source": [
    "# 4.Ans.\n",
    "\n",
    "def increment(digits):\n",
    "    n = len(digits)\n",
    "    for i in range(n-1,-1,-1):\n",
    "        if digits[i]<9:\n",
    "            digits[i]+=1\n",
    "            return digits\n",
    "        else:\n",
    "            digits[i] = 0\n",
    "    return [1] + digits\n",
    "\n",
    "digits_input = input(\"Enter the digits: \")\n",
    "digits = list(map(int, digits_input.split()))\n",
    "\n",
    "result = increment(digits)\n",
    "\n",
    "print(result)\n",
    "            \n",
    "\n",
    "\n"
   ]
  },
  {
   "cell_type": "code",
   "execution_count": 12,
   "id": "5822838e-590f-4ab4-8d28-850ea9b5d37b",
   "metadata": {},
   "outputs": [
    {
     "name": "stdin",
     "output_type": "stream",
     "text": [
      "Enter the elements of nums1 :  1 2 3 0 0 0\n",
      "Enter the value of m:  3\n",
      "Enter the elements of nums2 :  2 5 6\n",
      "Enter the value of n:  3\n"
     ]
    },
    {
     "name": "stdout",
     "output_type": "stream",
     "text": [
      "[1, 2, 2, 3, 5, 6]\n"
     ]
    }
   ],
   "source": [
    "# 5.Ans.\n",
    "\n",
    "def merge_2array(nums1, m, nums2, n):\n",
    "    i = m - 1\n",
    "    j = n - 1\n",
    "    k = m + n - 1\n",
    "\n",
    "    while i >= 0 and j >= 0:\n",
    "        if nums1[i] >= nums2[j]:\n",
    "            nums1[k] = nums1[i]\n",
    "            i -= 1\n",
    "        else:\n",
    "            nums1[k] = nums2[j]\n",
    "            j -= 1\n",
    "        k -= 1\n",
    "\n",
    "    while j >= 0:\n",
    "        nums1[k] = nums2[j]\n",
    "        j -= 1\n",
    "        k -= 1\n",
    "\n",
    "nums1_input = input(\"Enter the elements of nums1 : \")\n",
    "nums1 = list(map(int, nums1_input.split()))\n",
    "\n",
    "m = int(input(\"Enter the value of m: \"))\n",
    "\n",
    "nums2_input = input(\"Enter the elements of nums2 : \")\n",
    "nums2 = list(map(int, nums2_input.split()))\n",
    "\n",
    "n = int(input(\"Enter the value of n: \"))\n",
    "\n",
    "merge_2array(nums1, m, nums2, n)\n",
    "\n",
    "print(nums1)\n",
    "\n",
    "    \n"
   ]
  },
  {
   "cell_type": "code",
   "execution_count": 13,
   "id": "8714dd48-4cd4-4519-88c9-8a3557efa408",
   "metadata": {},
   "outputs": [
    {
     "name": "stdin",
     "output_type": "stream",
     "text": [
      "Enter the elements of nums :  1 2 3 1\n"
     ]
    },
    {
     "name": "stdout",
     "output_type": "stream",
     "text": [
      "True\n"
     ]
    }
   ],
   "source": [
    "# 6.Ans.\n",
    "\n",
    "def twicevalue(nums):\n",
    "    unique_values = set()\n",
    "    \n",
    "    for num in nums:\n",
    "        if num in unique_values:\n",
    "            return True\n",
    "        else:\n",
    "            unique_values.add(num)\n",
    "\n",
    "    return False\n",
    "\n",
    "\n",
    "nums_input = input(\"Enter the elements of nums : \")\n",
    "nums = list(map(int, nums_input.split()))\n",
    "result = twicevalue(nums)\n",
    "print(result)  \n",
    "\n",
    "\n"
   ]
  },
  {
   "cell_type": "code",
   "execution_count": 14,
   "id": "0e4a79af-7a64-418a-9eb8-b247534fd111",
   "metadata": {},
   "outputs": [
    {
     "name": "stdin",
     "output_type": "stream",
     "text": [
      "Enter the elements of nums :  0 1 0 3 1 2\n"
     ]
    },
    {
     "name": "stdout",
     "output_type": "stream",
     "text": [
      "[1, 3, 1, 2, 0, 0]\n"
     ]
    }
   ],
   "source": [
    "# 7.Ans.\n",
    "\n",
    "def moveZeroes(nums):\n",
    "    insert_pos = 0\n",
    "\n",
    "    for num in nums:\n",
    "        if num != 0:\n",
    "            nums[insert_pos] = num\n",
    "            insert_pos += 1\n",
    "            \n",
    "    while insert_pos < len(nums):\n",
    "        nums[insert_pos] = 0\n",
    "        insert_pos += 1\n",
    "nums_input = input(\"Enter the elements of nums : \")\n",
    "nums = list(map(int, nums_input.split()))\n",
    "moveZeroes(nums)\n",
    "print(nums) \n"
   ]
  },
  {
   "cell_type": "code",
   "execution_count": 15,
   "id": "c8f14ef1-6a03-4355-8282-de9216a8d07a",
   "metadata": {},
   "outputs": [
    {
     "name": "stdin",
     "output_type": "stream",
     "text": [
      "Enter the elements of nums :  1 2 2 4\n"
     ]
    },
    {
     "name": "stdout",
     "output_type": "stream",
     "text": [
      "[2, 3]\n"
     ]
    }
   ],
   "source": [
    "# 8.Ans.\n",
    "\n",
    "def missingnumbers(nums):\n",
    "    n = len(nums)\n",
    "    num_set = set()\n",
    "    duplicate_num = -1\n",
    "    missing_num = -1\n",
    "    \n",
    "    for num in nums:\n",
    "        if num in num_set:\n",
    "            duplicate_num = num\n",
    "        else:\n",
    "            num_set.add(num)\n",
    "\n",
    "    for num in range(1, n+1):\n",
    "        if num not in num_set:\n",
    "            missing_num = num\n",
    "            break\n",
    "\n",
    "    return [duplicate_num, missing_num]\n",
    "\n",
    "nums_input = input(\"Enter the elements of nums : \")\n",
    "nums = list(map(int, nums_input.split()))\n",
    "result = missingnumbers(nums)\n",
    "print(result) \n"
   ]
  },
  {
   "cell_type": "code",
   "execution_count": null,
   "id": "8d6b499a-56a2-41aa-aa01-4e9559b9eb5d",
   "metadata": {},
   "outputs": [],
   "source": []
  }
 ],
 "metadata": {
  "kernelspec": {
   "display_name": "Python 3 (ipykernel)",
   "language": "python",
   "name": "python3"
  },
  "language_info": {
   "codemirror_mode": {
    "name": "ipython",
    "version": 3
   },
   "file_extension": ".py",
   "mimetype": "text/x-python",
   "name": "python",
   "nbconvert_exporter": "python",
   "pygments_lexer": "ipython3",
   "version": "3.10.6"
  }
 },
 "nbformat": 4,
 "nbformat_minor": 5
}
